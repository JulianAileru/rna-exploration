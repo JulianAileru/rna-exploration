{
 "cells": [
  {
   "cell_type": "code",
   "execution_count": 216,
   "id": "c17d6339",
   "metadata": {},
   "outputs": [],
   "source": [
    "import pandas as pd\n",
    "from itertools import chain"
   ]
  },
  {
   "cell_type": "code",
   "execution_count": 217,
   "id": "2505dcf2",
   "metadata": {},
   "outputs": [],
   "source": [
    "metadata = {}\n",
    "with open(\"/Users/jaileru/Downloads/GSE40419_series_matrix.txt\", \"r\") as f:\n",
    "    for idx,line in enumerate(f):\n",
    "        if line.startswith(\"!\"):\n",
    "            line = line.strip()\n",
    "            i = line.split(\"\\t\")[0]\n",
    "            j = line.split(\"\\t\")[1:]\n",
    "            j = [x.strip('\"') for x in j]\n",
    "            i = f'{i}_{idx}'\n",
    "            if i not in metadata:\n",
    "                metadata[i] = list()\n",
    "                metadata[i].append(j)\n",
    "                \n",
    "            else:\n",
    "                metadata[i].append(j)\n",
    "for i,j in metadata.items():\n",
    "    metadata[i] = list(chain.from_iterable(j))\n",
    "            "
   ]
  },
  {
   "cell_type": "code",
   "execution_count": 218,
   "id": "22f699a9",
   "metadata": {},
   "outputs": [],
   "source": [
    "df = pd.DataFrame.from_dict(metadata,orient='index')"
   ]
  },
  {
   "cell_type": "code",
   "execution_count": 219,
   "id": "72242e5a",
   "metadata": {},
   "outputs": [],
   "source": [
    "sample_info = df[df.index.str.contains(\"!Sample\")].T"
   ]
  },
  {
   "cell_type": "code",
   "execution_count": 220,
   "id": "a86626e1",
   "metadata": {},
   "outputs": [],
   "source": [
    "sample_info.columns = sample_info.columns.str.replace(\"!\",\"\")\n",
    "sample_info.columns = sample_info.columns.str.replace(\"Sample_\",\"Sample-\")\n",
    "sample_info.columns = sample_info.columns.str.upper()"
   ]
  },
  {
   "cell_type": "code",
   "execution_count": 221,
   "id": "87845509",
   "metadata": {},
   "outputs": [],
   "source": [
    "sample_info.rename(columns={\"SAMPLE-CHARACTERISTICS_CH1_36\":\"SAMPLE-AGE-AT-DIAGNOSIS\"},inplace=True)\n",
    "sample_info.rename(columns={\"SAMPLE-CHARACTERISTICS_CH1_37\":\"SAMPLE-GENDER\"},inplace=True)\n",
    "sample_info.rename(columns={\"SAMPLE-CHARACTERISTICS_CH1_38\":\"SAMPLE-SMOKING-STATUS\"},inplace=True)\n",
    "sample_info.rename(columns={\"SAMPLE-CHARACTERISTICS_CH1_39\":\"SAMPLE-CANCER-STAGE\"},inplace=True)"
   ]
  },
  {
   "cell_type": "code",
   "execution_count": null,
   "id": "656de7b7",
   "metadata": {},
   "outputs": [],
   "source": [
    "sample_info['SAMPLE-AGE-AT-DIAGNOSIS'] = sample_info['SAMPLE-AGE-AT-DIAGNOSIS'].str.replace(\"age_at_diagnosis:\",\"\")\n",
    "sample_info['SAMPLE-GENDER'] = sample_info['SAMPLE-GENDER'].str.replace(\"gender: \",\"\")"
   ]
  },
  {
   "cell_type": "code",
   "execution_count": 235,
   "id": "fc7af531",
   "metadata": {},
   "outputs": [],
   "source": [
    "sample_info.to_csv(\"~/GitHub/rna-exploration/bulk-rna-seq/lung-cancer-metadata-20240805.csv\")"
   ]
  }
 ],
 "metadata": {
  "kernelspec": {
   "display_name": "home",
   "language": "python",
   "name": "python3"
  },
  "language_info": {
   "codemirror_mode": {
    "name": "ipython",
    "version": 3
   },
   "file_extension": ".py",
   "mimetype": "text/x-python",
   "name": "python",
   "nbconvert_exporter": "python",
   "pygments_lexer": "ipython3",
   "version": "3.13.2"
  }
 },
 "nbformat": 4,
 "nbformat_minor": 5
}
